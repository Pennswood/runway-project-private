{
 "cells": [
  {
   "cell_type": "code",
   "execution_count": 104,
   "metadata": {},
   "outputs": [],
   "source": [
    "import pandas as pd\n",
    "from sklearn import datasets\n",
    "from sklearn import linear_model\n",
    "from sklearn.preprocessing import normalize\n",
    "from sklearn.model_selection import train_test_split, cross_val_score\n",
    "import numpy as np\n",
    "\n",
    "from sklearn.metrics import log_loss, make_scorer, accuracy_score\n",
    "from sklearn.preprocessing import scale\n",
    "from sklearn.impute import SimpleImputer"
   ]
  },
  {
   "cell_type": "code",
   "execution_count": 2,
   "metadata": {},
   "outputs": [],
   "source": [
    "open_training_labels = pd.read_csv(\"../data/open_train_labels.csv.bz2\", parse_dates=[\"timestamp\"], compression = \"bz2\")\n",
    "airports = open_training_labels[\"airport\"].unique().tolist()"
   ]
  },
  {
   "cell_type": "code",
   "execution_count": 5,
   "metadata": {},
   "outputs": [
    {
     "name": "stdout",
     "output_type": "stream",
     "text": [
      "Starting LR cross validation for katl\n"
     ]
    }
   ],
   "source": [
    "air=\"katl\"\n",
    "possible_labels = pd.read_csv(f\"{air}_possibel_config\")[\"0\"].values.tolist()\n",
    "train = pd.read_csv(\"training_data.csv\")\n",
    "train = train[train[\"airport\"] == air]\n",
    "feature_cols = [\"temperature\", \"wind_direction\", \"wind_speed\", \"wind_gust\", \"cloud_ceiling\", \"visibility\", \\\n",
    "                 \"cloud\", \"lightning_prob\", \"precip\", \"depart1\", \"deaprt2\", \"depart3\", \"depart4\", \\\n",
    "                       \"arrive1\", \"arrive2\", \"arrive3\", \"arrive4\", \"lookahead\"]\n",
    "for i in range(len(possible_labels)):\n",
    "  feature_cols.append('cur_config_hot'+str(i))\n",
    "\n",
    "\n",
    "\n",
    "\n",
    "X = train.loc[:, feature_cols]\n",
    "y = train.actual_label\n",
    "x_train, x_test, y_train, y_test = train_test_split(X, y, test_size=0.2, random_state=12)\n",
    "# Some weather data is missing :(\n",
    "imp = SimpleImputer(missing_values=np.nan, strategy='median')\n",
    "imp = imp.fit(x_train)\n",
    "x_train = imp.transform(x_train)\n",
    "x_test = imp.transform(x_test)\n",
    "\n",
    "\n",
    "print(f\"Starting LR cross validation for {air}\")\n",
    "#LRG = linear_model.LogisticRegression(penalty='l2',\n",
    "#   random_state = 0,solver = 'lbfgs', multi_class = 'multinomial', max_iter=100\n",
    "#).fit(x_train, y_train)\n",
    "\n",
    "#print(f\"{air}Training error: \"+str(LRG.score(X, y)))\n",
    "\n",
    "\n",
    "#LRG = linear_model.LogisticRegression(penalty='l2',\n",
    "#random_state = 0,solver = 'lbfgs', multi_class = 'multinomial', max_iter=100000)\n",
    "#scores = cross_val_score(LRG, x_train, y_train, cv=2, scoring = make_scorer(log_loss, greater_is_better=True, needs_proba=True))\n",
    "#print(f\"{air}scores for lbfgs l2: \"+ str(scores))\n",
    "\n",
    "#LRG = linear_model.LogisticRegression(penalty='none',\n",
    "#random_state = 0,solver = 'lbfgs', multi_class = 'multinomial', max_iter=1000000)\n",
    "#scores = cross_val_score(LRG, x_train, y_train, cv=2, scoring = make_scorer(log_loss, greater_is_better=True, needs_proba=True))\n",
    "#print(f\"{air}scores for lbfgs no penalty: \"+ str(scores))"
   ]
  },
  {
   "cell_type": "code",
   "execution_count": 146,
   "metadata": {},
   "outputs": [
    {
     "name": "stderr",
     "output_type": "stream",
     "text": [
      "/Users/normenyu/opt/anaconda3/lib/python3.7/site-packages/sklearn/linear_model/_logistic.py:818: ConvergenceWarning: lbfgs failed to converge (status=1):\n",
      "STOP: TOTAL NO. of f AND g EVALUATIONS EXCEEDS LIMIT.\n",
      "\n",
      "Increase the number of iterations (max_iter) or scale the data as shown in:\n",
      "    https://scikit-learn.org/stable/modules/preprocessing.html\n",
      "Please also refer to the documentation for alternative solver options:\n",
      "    https://scikit-learn.org/stable/modules/linear_model.html#logistic-regression\n",
      "  extra_warning_msg=_LOGISTIC_SOLVER_CONVERGENCE_MSG,\n"
     ]
    }
   ],
   "source": [
    "LRG = linear_model.LogisticRegression(penalty='l2',solver = 'lbfgs', multi_class = 'multinomial', max_iter=100000\n",
    ").fit(x_train, y_train)\n",
    "# print(f\"{air} Training error: \"+str(LRG.score(x_train, y_train)))\n",
    "# log_loss(y_train, LRG.predict_proba(x_train), labels=[0,1,2,3,4,5,6,7,8,9,10,11,12,13,14,15,16,17,18,19,20,21,22,23,24,25])"
   ]
  },
  {
   "cell_type": "code",
   "execution_count": 157,
   "metadata": {},
   "outputs": [],
   "source": [
    "y_test_onehot = []\n",
    "for i in y_test:\n",
    "    temp = [0]*(len(possible_labels))\n",
    "    \n",
    "    temp[int(i)] = 1\n",
    "    y_test_onehot.append(temp)\n",
    "    "
   ]
  },
  {
   "cell_type": "code",
   "execution_count": 160,
   "metadata": {},
   "outputs": [
    {
     "data": {
      "text/plain": [
       "0.04329173805179127"
      ]
     },
     "execution_count": 160,
     "metadata": {},
     "output_type": "execute_result"
    }
   ],
   "source": [
    "log_loss(np.array(y_test_onehot).flatten(), predicted_probabilities.flatten())"
   ]
  },
  {
   "cell_type": "code",
   "execution_count": 44,
   "metadata": {
    "scrolled": true
   },
   "outputs": [
    {
     "data": {
      "text/plain": [
       "array([[7.01962895e-03, 5.37573481e-08, 1.50404854e-02, ...,\n",
       "        5.69859817e-03, 1.23489128e-02, 6.33469021e-02],\n",
       "       [7.01962895e-03, 5.37573481e-08, 1.50404854e-02, ...,\n",
       "        5.69859817e-03, 1.23489128e-02, 6.33469021e-02],\n",
       "       [7.01962895e-03, 5.37573481e-08, 1.50404854e-02, ...,\n",
       "        5.69859817e-03, 1.23489128e-02, 6.33469021e-02],\n",
       "       ...,\n",
       "       [1.16525594e-07, 4.72206963e-08, 3.41295373e-05, ...,\n",
       "        1.21565213e-07, 6.13865578e-04, 4.82729636e-02],\n",
       "       [1.16525594e-07, 4.72206963e-08, 3.41295373e-05, ...,\n",
       "        1.21565213e-07, 6.13865578e-04, 4.82729636e-02],\n",
       "       [1.16525594e-07, 4.72206963e-08, 3.41295373e-05, ...,\n",
       "        1.21565213e-07, 6.13865578e-04, 4.82729636e-02]])"
      ]
     },
     "execution_count": 44,
     "metadata": {},
     "output_type": "execute_result"
    }
   ],
   "source": [
    "LRG.predict_proba(X)"
   ]
  },
  {
   "cell_type": "code",
   "execution_count": 84,
   "metadata": {},
   "outputs": [
    {
     "data": {
      "text/plain": [
       "2.55756193783863"
      ]
     },
     "execution_count": 84,
     "metadata": {},
     "output_type": "execute_result"
    }
   ],
   "source": [
    "log_loss(y_train, pred, labels=[0,1,2,3,4,5,6,7,8,9,10,11,12,13,14,15,16,17,18,19,20,21,22,23,24,25])"
   ]
  },
  {
   "cell_type": "code",
   "execution_count": 15,
   "metadata": {},
   "outputs": [
    {
     "data": {
      "text/plain": [
       "array([ 0.,  1.,  2.,  3.,  4.,  5.,  6.,  7.,  8.,  9., 10., 11., 12.,\n",
       "       13., 14., 15., 16., 17., 18., 19., 20., 21., 22., 23., 24., 26.])"
      ]
     },
     "execution_count": 15,
     "metadata": {},
     "output_type": "execute_result"
    }
   ],
   "source": [
    "LRG.classes_"
   ]
  },
  {
   "cell_type": "code",
   "execution_count": 105,
   "metadata": {},
   "outputs": [
    {
     "data": {
      "text/plain": [
       "1000    1.0\n",
       "1001    1.0\n",
       "1002    1.0\n",
       "1003    1.0\n",
       "1004    1.0\n",
       "1005    1.0\n",
       "1006    1.0\n",
       "1007    1.0\n",
       "1008    0.0\n",
       "1009    0.0\n",
       "1010    0.0\n",
       "1011    0.0\n",
       "1012    0.0\n",
       "1013    0.0\n",
       "1014    0.0\n",
       "1015    0.0\n",
       "1016    0.0\n",
       "1017    0.0\n",
       "1018    0.0\n",
       "1019    0.0\n",
       "1020    1.0\n",
       "1021    1.0\n",
       "1022    1.0\n",
       "1023    1.0\n",
       "1024    1.0\n",
       "1025    1.0\n",
       "1026    1.0\n",
       "1027    1.0\n",
       "1028    1.0\n",
       "1029    1.0\n",
       "1030    1.0\n",
       "1031    1.0\n",
       "1032    1.0\n",
       "1033    1.0\n",
       "1034    1.0\n",
       "1035    1.0\n",
       "1036    1.0\n",
       "1037    1.0\n",
       "1038    1.0\n",
       "1039    1.0\n",
       "1040    1.0\n",
       "1041    1.0\n",
       "1042    1.0\n",
       "1043    1.0\n",
       "1044    1.0\n",
       "1045    1.0\n",
       "1046    1.0\n",
       "1047    1.0\n",
       "1048    1.0\n",
       "1049    1.0\n",
       "Name: cur_config_hot19, dtype: float64"
      ]
     },
     "execution_count": 105,
     "metadata": {},
     "output_type": "execute_result"
    }
   ],
   "source": [
    "train['cur_config_hot19'][1000:1050]"
   ]
  },
  {
   "cell_type": "code",
   "execution_count": 103,
   "metadata": {},
   "outputs": [
    {
     "data": {
      "text/plain": [
       "1000    19.0\n",
       "1001    19.0\n",
       "1002    19.0\n",
       "1003    19.0\n",
       "1004    19.0\n",
       "1005    19.0\n",
       "1006    19.0\n",
       "1007    19.0\n",
       "1008    19.0\n",
       "1009    19.0\n",
       "1010    19.0\n",
       "1011    19.0\n",
       "1012    19.0\n",
       "1013    19.0\n",
       "1014    19.0\n",
       "1015    19.0\n",
       "1016    19.0\n",
       "1017    19.0\n",
       "1018    19.0\n",
       "1019    19.0\n",
       "1020    19.0\n",
       "1021    19.0\n",
       "1022    19.0\n",
       "1023    19.0\n",
       "1024    19.0\n",
       "1025    19.0\n",
       "1026    19.0\n",
       "1027    19.0\n",
       "1028    19.0\n",
       "1029    19.0\n",
       "1030    19.0\n",
       "1031    19.0\n",
       "1032    19.0\n",
       "1033    19.0\n",
       "1034    19.0\n",
       "1035    19.0\n",
       "1036    19.0\n",
       "1037    19.0\n",
       "1038    19.0\n",
       "1039    19.0\n",
       "1040    19.0\n",
       "1041    19.0\n",
       "1042    19.0\n",
       "1043    19.0\n",
       "1044    19.0\n",
       "1045    19.0\n",
       "1046    19.0\n",
       "1047    19.0\n",
       "1048    19.0\n",
       "1049    19.0\n",
       "Name: actual_label, dtype: float64"
      ]
     },
     "execution_count": 103,
     "metadata": {},
     "output_type": "execute_result"
    }
   ],
   "source": [
    "y[1000:1050]"
   ]
  },
  {
   "cell_type": "code",
   "execution_count": 95,
   "metadata": {},
   "outputs": [],
   "source": [
    "cur_config = pd.read_csv(f\"../data/{air}/{air}_airport_config.csv.bz2\", parse_dates=[\"timestamp\"])"
   ]
  },
  {
   "cell_type": "code",
   "execution_count": 159,
   "metadata": {},
   "outputs": [],
   "source": [
    "predicted_probabilities = LRG.predict_proba(x_test).tolist()\n",
    "to_add = np.setdiff1d(np.array(range(len(possible_labels))),LRG.classes_)\n",
    "cur_classes = LRG.classes_\n",
    "for i in range(len(predicted_probabilities)):\n",
    "    for j in to_add:\n",
    "        predicted_probabilities[i].insert(j, 1e-8)\n",
    "        \n",
    "predicted_probabilities = normalize(np.array(predicted_probabilities), axis=1, norm=\"l1\")\n"
   ]
  },
  {
   "cell_type": "code",
   "execution_count": 145,
   "metadata": {},
   "outputs": [
    {
     "data": {
      "text/plain": [
       "1.0000000000000002"
      ]
     },
     "execution_count": 145,
     "metadata": {},
     "output_type": "execute_result"
    }
   ],
   "source": [
    "sum(predicted_probabilities[2])"
   ]
  },
  {
   "cell_type": "code",
   "execution_count": 26,
   "metadata": {},
   "outputs": [],
   "source": [
    "cur_classes = LRG.classes_\n",
    "to_add = np.setdiff1d(np.array(range(len(possible_labels))),LRG.classes_)\n",
    "for j in to_add:\n",
    "    cur_classes = np.insert(cur_classes, j,j)"
   ]
  },
  {
   "cell_type": "code",
   "execution_count": 27,
   "metadata": {},
   "outputs": [
    {
     "data": {
      "text/plain": [
       "array([ 0.,  1.,  2.,  3.,  4.,  5.,  6.,  7.,  8.,  9., 10., 11., 12.,\n",
       "       13., 14., 15., 16., 17., 18., 19., 20., 21., 22., 23., 24., 25.,\n",
       "       26.])"
      ]
     },
     "execution_count": 27,
     "metadata": {},
     "output_type": "execute_result"
    }
   ],
   "source": [
    "cur_classes"
   ]
  },
  {
   "cell_type": "code",
   "execution_count": 138,
   "metadata": {},
   "outputs": [],
   "source": [
    "a = normalize(np.array([[1,2,3],[4,5,6]]), axis=1, norm=\"l1\")"
   ]
  },
  {
   "cell_type": "code",
   "execution_count": 156,
   "metadata": {},
   "outputs": [
    {
     "data": {
      "text/plain": [
       "array([1.19149359e+00, 1.79954258e+00, 2.04965838e+00, 3.82973605e+00,\n",
       "       5.27843881e+00, 9.80658552e+00, 1.54960770e+00, 1.58740829e+01,\n",
       "       2.16836497e+01, 3.55388145e-01, 4.57957762e-01, 1.55070357e+00,\n",
       "       1.97002365e+00, 4.91638919e-01, 3.63872501e-01, 3.47956821e-01,\n",
       "       1.12405832e+00, 1.72410951e-02, 1.65130163e+01, 2.03521016e+01,\n",
       "       1.93620930e+01, 1.57218513e+01, 1.90362555e+01, 1.67204512e+01,\n",
       "       1.52532985e+01, 2.16538467e+01, 1.99513865e+01, 3.58316100e+01,\n",
       "       1.91544054e+01, 1.98537226e+01, 1.85536473e+01, 2.04194991e+01,\n",
       "       1.07515497e+01, 1.72983840e+01, 1.59281948e+01, 2.17216169e+01,\n",
       "       1.26878420e+01, 4.20048771e+01, 1.50814269e+01, 1.80410322e+01,\n",
       "       1.81863183e+01, 1.77677237e+01, 2.01492828e+01, 0.00000000e+00,\n",
       "       1.64152458e+01])"
      ]
     },
     "execution_count": 156,
     "metadata": {},
     "output_type": "execute_result"
    }
   ],
   "source": [
    "sum(abs(LRG.coef_))"
   ]
  },
  {
   "cell_type": "code",
   "execution_count": 131,
   "metadata": {},
   "outputs": [
    {
     "data": {
      "text/plain": [
       "1.08586552"
      ]
     },
     "execution_count": 131,
     "metadata": {},
     "output_type": "execute_result"
    }
   ],
   "source": [
    "0.26726124+0.37139068+0.4472136"
   ]
  },
  {
   "cell_type": "code",
   "execution_count": null,
   "metadata": {},
   "outputs": [],
   "source": [
    "feature_cols = [\"temperature\", \"wind_direction\", \"wind_speed\", \"wind_gust\", \"cloud_ceiling\", \"visibility\", \\\n",
    "                 \"cloud\", \"lightning_prob\", \"precip\", \"depart1\", \"deaprt2\", \"depart3\", \"depart4\", \\\n",
    "                       \"arrive1\", \"arrive2\", \"arrive3\", \"arrive4\", \"lookahead\"]"
   ]
  },
  {
   "cell_type": "code",
   "execution_count": 151,
   "metadata": {},
   "outputs": [
    {
     "data": {
      "text/plain": [
       "array([-3.01868403, -1.37924348, -2.99785454,  0.18423547, -1.42511809,\n",
       "        0.72719026, -1.7836876 , -1.45072199, -1.21873605,  4.53200803,\n",
       "       -0.26524552,  1.18413856,  0.53675668, -2.29969727, -0.87548029,\n",
       "       -1.6976047 , -0.25195893, -3.00666962,  0.23429166,  7.09421645,\n",
       "       -0.29009357,  2.96554552,  0.96376875, -0.12951284,  0.25765329,\n",
       "        3.41050385])"
      ]
     },
     "execution_count": 151,
     "metadata": {},
     "output_type": "execute_result"
    }
   ],
   "source": [
    "LRG.intercept_"
   ]
  },
  {
   "cell_type": "code",
   "execution_count": 153,
   "metadata": {},
   "outputs": [
    {
     "data": {
      "text/html": [
       "<div>\n",
       "<style scoped>\n",
       "    .dataframe tbody tr th:only-of-type {\n",
       "        vertical-align: middle;\n",
       "    }\n",
       "\n",
       "    .dataframe tbody tr th {\n",
       "        vertical-align: top;\n",
       "    }\n",
       "\n",
       "    .dataframe thead th {\n",
       "        text-align: right;\n",
       "    }\n",
       "</style>\n",
       "<table border=\"1\" class=\"dataframe\">\n",
       "  <thead>\n",
       "    <tr style=\"text-align: right;\">\n",
       "      <th></th>\n",
       "      <th>temperature</th>\n",
       "      <th>wind_direction</th>\n",
       "      <th>wind_speed</th>\n",
       "      <th>wind_gust</th>\n",
       "      <th>cloud_ceiling</th>\n",
       "      <th>visibility</th>\n",
       "      <th>cloud</th>\n",
       "      <th>lightning_prob</th>\n",
       "      <th>precip</th>\n",
       "      <th>depart1</th>\n",
       "      <th>...</th>\n",
       "      <th>cur_config_hot17</th>\n",
       "      <th>cur_config_hot18</th>\n",
       "      <th>cur_config_hot19</th>\n",
       "      <th>cur_config_hot20</th>\n",
       "      <th>cur_config_hot21</th>\n",
       "      <th>cur_config_hot22</th>\n",
       "      <th>cur_config_hot23</th>\n",
       "      <th>cur_config_hot24</th>\n",
       "      <th>cur_config_hot25</th>\n",
       "      <th>cur_config_hot26</th>\n",
       "    </tr>\n",
       "  </thead>\n",
       "  <tbody>\n",
       "    <tr>\n",
       "      <th>0</th>\n",
       "      <td>69.0</td>\n",
       "      <td>7.0</td>\n",
       "      <td>8.0</td>\n",
       "      <td>0.0</td>\n",
       "      <td>8.0</td>\n",
       "      <td>7.0</td>\n",
       "      <td>5.0</td>\n",
       "      <td>0.0</td>\n",
       "      <td>0.0</td>\n",
       "      <td>10.0</td>\n",
       "      <td>...</td>\n",
       "      <td>0.0</td>\n",
       "      <td>0.0</td>\n",
       "      <td>1.0</td>\n",
       "      <td>0.0</td>\n",
       "      <td>0.0</td>\n",
       "      <td>0.0</td>\n",
       "      <td>0.0</td>\n",
       "      <td>0.0</td>\n",
       "      <td>0.0</td>\n",
       "      <td>0.0</td>\n",
       "    </tr>\n",
       "    <tr>\n",
       "      <th>1</th>\n",
       "      <td>66.0</td>\n",
       "      <td>7.0</td>\n",
       "      <td>9.0</td>\n",
       "      <td>0.0</td>\n",
       "      <td>8.0</td>\n",
       "      <td>7.0</td>\n",
       "      <td>5.0</td>\n",
       "      <td>0.0</td>\n",
       "      <td>0.0</td>\n",
       "      <td>39.0</td>\n",
       "      <td>...</td>\n",
       "      <td>0.0</td>\n",
       "      <td>0.0</td>\n",
       "      <td>1.0</td>\n",
       "      <td>0.0</td>\n",
       "      <td>0.0</td>\n",
       "      <td>0.0</td>\n",
       "      <td>0.0</td>\n",
       "      <td>0.0</td>\n",
       "      <td>0.0</td>\n",
       "      <td>0.0</td>\n",
       "    </tr>\n",
       "    <tr>\n",
       "      <th>2</th>\n",
       "      <td>64.0</td>\n",
       "      <td>7.0</td>\n",
       "      <td>9.0</td>\n",
       "      <td>0.0</td>\n",
       "      <td>8.0</td>\n",
       "      <td>7.0</td>\n",
       "      <td>1.0</td>\n",
       "      <td>0.0</td>\n",
       "      <td>0.0</td>\n",
       "      <td>47.0</td>\n",
       "      <td>...</td>\n",
       "      <td>0.0</td>\n",
       "      <td>0.0</td>\n",
       "      <td>1.0</td>\n",
       "      <td>0.0</td>\n",
       "      <td>0.0</td>\n",
       "      <td>0.0</td>\n",
       "      <td>0.0</td>\n",
       "      <td>0.0</td>\n",
       "      <td>0.0</td>\n",
       "      <td>0.0</td>\n",
       "    </tr>\n",
       "    <tr>\n",
       "      <th>3</th>\n",
       "      <td>64.0</td>\n",
       "      <td>7.0</td>\n",
       "      <td>9.0</td>\n",
       "      <td>0.0</td>\n",
       "      <td>8.0</td>\n",
       "      <td>7.0</td>\n",
       "      <td>1.0</td>\n",
       "      <td>0.0</td>\n",
       "      <td>0.0</td>\n",
       "      <td>13.0</td>\n",
       "      <td>...</td>\n",
       "      <td>0.0</td>\n",
       "      <td>0.0</td>\n",
       "      <td>1.0</td>\n",
       "      <td>0.0</td>\n",
       "      <td>0.0</td>\n",
       "      <td>0.0</td>\n",
       "      <td>0.0</td>\n",
       "      <td>0.0</td>\n",
       "      <td>0.0</td>\n",
       "      <td>0.0</td>\n",
       "    </tr>\n",
       "    <tr>\n",
       "      <th>4</th>\n",
       "      <td>64.0</td>\n",
       "      <td>7.0</td>\n",
       "      <td>9.0</td>\n",
       "      <td>0.0</td>\n",
       "      <td>8.0</td>\n",
       "      <td>7.0</td>\n",
       "      <td>1.0</td>\n",
       "      <td>0.0</td>\n",
       "      <td>0.0</td>\n",
       "      <td>31.0</td>\n",
       "      <td>...</td>\n",
       "      <td>0.0</td>\n",
       "      <td>0.0</td>\n",
       "      <td>1.0</td>\n",
       "      <td>0.0</td>\n",
       "      <td>0.0</td>\n",
       "      <td>0.0</td>\n",
       "      <td>0.0</td>\n",
       "      <td>0.0</td>\n",
       "      <td>0.0</td>\n",
       "      <td>0.0</td>\n",
       "    </tr>\n",
       "    <tr>\n",
       "      <th>...</th>\n",
       "      <td>...</td>\n",
       "      <td>...</td>\n",
       "      <td>...</td>\n",
       "      <td>...</td>\n",
       "      <td>...</td>\n",
       "      <td>...</td>\n",
       "      <td>...</td>\n",
       "      <td>...</td>\n",
       "      <td>...</td>\n",
       "      <td>...</td>\n",
       "      <td>...</td>\n",
       "      <td>...</td>\n",
       "      <td>...</td>\n",
       "      <td>...</td>\n",
       "      <td>...</td>\n",
       "      <td>...</td>\n",
       "      <td>...</td>\n",
       "      <td>...</td>\n",
       "      <td>...</td>\n",
       "      <td>...</td>\n",
       "      <td>...</td>\n",
       "    </tr>\n",
       "    <tr>\n",
       "      <th>89131</th>\n",
       "      <td>54.0</td>\n",
       "      <td>34.0</td>\n",
       "      <td>10.0</td>\n",
       "      <td>0.0</td>\n",
       "      <td>8.0</td>\n",
       "      <td>7.0</td>\n",
       "      <td>0.0</td>\n",
       "      <td>0.0</td>\n",
       "      <td>0.0</td>\n",
       "      <td>40.0</td>\n",
       "      <td>...</td>\n",
       "      <td>0.0</td>\n",
       "      <td>0.0</td>\n",
       "      <td>0.0</td>\n",
       "      <td>0.0</td>\n",
       "      <td>0.0</td>\n",
       "      <td>0.0</td>\n",
       "      <td>0.0</td>\n",
       "      <td>0.0</td>\n",
       "      <td>0.0</td>\n",
       "      <td>0.0</td>\n",
       "    </tr>\n",
       "    <tr>\n",
       "      <th>89132</th>\n",
       "      <td>59.0</td>\n",
       "      <td>35.0</td>\n",
       "      <td>10.0</td>\n",
       "      <td>0.0</td>\n",
       "      <td>8.0</td>\n",
       "      <td>7.0</td>\n",
       "      <td>0.0</td>\n",
       "      <td>0.0</td>\n",
       "      <td>0.0</td>\n",
       "      <td>43.0</td>\n",
       "      <td>...</td>\n",
       "      <td>0.0</td>\n",
       "      <td>0.0</td>\n",
       "      <td>0.0</td>\n",
       "      <td>0.0</td>\n",
       "      <td>0.0</td>\n",
       "      <td>0.0</td>\n",
       "      <td>0.0</td>\n",
       "      <td>0.0</td>\n",
       "      <td>0.0</td>\n",
       "      <td>0.0</td>\n",
       "    </tr>\n",
       "    <tr>\n",
       "      <th>89133</th>\n",
       "      <td>59.0</td>\n",
       "      <td>35.0</td>\n",
       "      <td>10.0</td>\n",
       "      <td>0.0</td>\n",
       "      <td>8.0</td>\n",
       "      <td>7.0</td>\n",
       "      <td>0.0</td>\n",
       "      <td>0.0</td>\n",
       "      <td>0.0</td>\n",
       "      <td>40.0</td>\n",
       "      <td>...</td>\n",
       "      <td>0.0</td>\n",
       "      <td>0.0</td>\n",
       "      <td>0.0</td>\n",
       "      <td>0.0</td>\n",
       "      <td>0.0</td>\n",
       "      <td>0.0</td>\n",
       "      <td>0.0</td>\n",
       "      <td>0.0</td>\n",
       "      <td>0.0</td>\n",
       "      <td>0.0</td>\n",
       "    </tr>\n",
       "    <tr>\n",
       "      <th>89134</th>\n",
       "      <td>59.0</td>\n",
       "      <td>35.0</td>\n",
       "      <td>10.0</td>\n",
       "      <td>0.0</td>\n",
       "      <td>8.0</td>\n",
       "      <td>7.0</td>\n",
       "      <td>0.0</td>\n",
       "      <td>0.0</td>\n",
       "      <td>0.0</td>\n",
       "      <td>31.0</td>\n",
       "      <td>...</td>\n",
       "      <td>0.0</td>\n",
       "      <td>0.0</td>\n",
       "      <td>0.0</td>\n",
       "      <td>0.0</td>\n",
       "      <td>0.0</td>\n",
       "      <td>0.0</td>\n",
       "      <td>0.0</td>\n",
       "      <td>0.0</td>\n",
       "      <td>0.0</td>\n",
       "      <td>0.0</td>\n",
       "    </tr>\n",
       "    <tr>\n",
       "      <th>89135</th>\n",
       "      <td>63.0</td>\n",
       "      <td>34.0</td>\n",
       "      <td>10.0</td>\n",
       "      <td>0.0</td>\n",
       "      <td>8.0</td>\n",
       "      <td>7.0</td>\n",
       "      <td>0.0</td>\n",
       "      <td>0.0</td>\n",
       "      <td>0.0</td>\n",
       "      <td>63.0</td>\n",
       "      <td>...</td>\n",
       "      <td>0.0</td>\n",
       "      <td>0.0</td>\n",
       "      <td>0.0</td>\n",
       "      <td>0.0</td>\n",
       "      <td>0.0</td>\n",
       "      <td>0.0</td>\n",
       "      <td>0.0</td>\n",
       "      <td>0.0</td>\n",
       "      <td>0.0</td>\n",
       "      <td>0.0</td>\n",
       "    </tr>\n",
       "  </tbody>\n",
       "</table>\n",
       "<p>89136 rows × 45 columns</p>\n",
       "</div>"
      ],
      "text/plain": [
       "       temperature  wind_direction  wind_speed  wind_gust  cloud_ceiling  \\\n",
       "0             69.0             7.0         8.0        0.0            8.0   \n",
       "1             66.0             7.0         9.0        0.0            8.0   \n",
       "2             64.0             7.0         9.0        0.0            8.0   \n",
       "3             64.0             7.0         9.0        0.0            8.0   \n",
       "4             64.0             7.0         9.0        0.0            8.0   \n",
       "...            ...             ...         ...        ...            ...   \n",
       "89131         54.0            34.0        10.0        0.0            8.0   \n",
       "89132         59.0            35.0        10.0        0.0            8.0   \n",
       "89133         59.0            35.0        10.0        0.0            8.0   \n",
       "89134         59.0            35.0        10.0        0.0            8.0   \n",
       "89135         63.0            34.0        10.0        0.0            8.0   \n",
       "\n",
       "       visibility  cloud  lightning_prob  precip  depart1  ...  \\\n",
       "0             7.0    5.0             0.0     0.0     10.0  ...   \n",
       "1             7.0    5.0             0.0     0.0     39.0  ...   \n",
       "2             7.0    1.0             0.0     0.0     47.0  ...   \n",
       "3             7.0    1.0             0.0     0.0     13.0  ...   \n",
       "4             7.0    1.0             0.0     0.0     31.0  ...   \n",
       "...           ...    ...             ...     ...      ...  ...   \n",
       "89131         7.0    0.0             0.0     0.0     40.0  ...   \n",
       "89132         7.0    0.0             0.0     0.0     43.0  ...   \n",
       "89133         7.0    0.0             0.0     0.0     40.0  ...   \n",
       "89134         7.0    0.0             0.0     0.0     31.0  ...   \n",
       "89135         7.0    0.0             0.0     0.0     63.0  ...   \n",
       "\n",
       "       cur_config_hot17  cur_config_hot18  cur_config_hot19  cur_config_hot20  \\\n",
       "0                   0.0               0.0               1.0               0.0   \n",
       "1                   0.0               0.0               1.0               0.0   \n",
       "2                   0.0               0.0               1.0               0.0   \n",
       "3                   0.0               0.0               1.0               0.0   \n",
       "4                   0.0               0.0               1.0               0.0   \n",
       "...                 ...               ...               ...               ...   \n",
       "89131               0.0               0.0               0.0               0.0   \n",
       "89132               0.0               0.0               0.0               0.0   \n",
       "89133               0.0               0.0               0.0               0.0   \n",
       "89134               0.0               0.0               0.0               0.0   \n",
       "89135               0.0               0.0               0.0               0.0   \n",
       "\n",
       "       cur_config_hot21  cur_config_hot22  cur_config_hot23  cur_config_hot24  \\\n",
       "0                   0.0               0.0               0.0               0.0   \n",
       "1                   0.0               0.0               0.0               0.0   \n",
       "2                   0.0               0.0               0.0               0.0   \n",
       "3                   0.0               0.0               0.0               0.0   \n",
       "4                   0.0               0.0               0.0               0.0   \n",
       "...                 ...               ...               ...               ...   \n",
       "89131               0.0               0.0               0.0               0.0   \n",
       "89132               0.0               0.0               0.0               0.0   \n",
       "89133               0.0               0.0               0.0               0.0   \n",
       "89134               0.0               0.0               0.0               0.0   \n",
       "89135               0.0               0.0               0.0               0.0   \n",
       "\n",
       "       cur_config_hot25  cur_config_hot26  \n",
       "0                   0.0               0.0  \n",
       "1                   0.0               0.0  \n",
       "2                   0.0               0.0  \n",
       "3                   0.0               0.0  \n",
       "4                   0.0               0.0  \n",
       "...                 ...               ...  \n",
       "89131               0.0               0.0  \n",
       "89132               0.0               0.0  \n",
       "89133               0.0               0.0  \n",
       "89134               0.0               0.0  \n",
       "89135               0.0               0.0  \n",
       "\n",
       "[89136 rows x 45 columns]"
      ]
     },
     "execution_count": 153,
     "metadata": {},
     "output_type": "execute_result"
    }
   ],
   "source": [
    "X"
   ]
  },
  {
   "cell_type": "code",
   "execution_count": null,
   "metadata": {},
   "outputs": [],
   "source": []
  }
 ],
 "metadata": {
  "kernelspec": {
   "display_name": "Python 3",
   "language": "python",
   "name": "python3"
  },
  "language_info": {
   "codemirror_mode": {
    "name": "ipython",
    "version": 3
   },
   "file_extension": ".py",
   "mimetype": "text/x-python",
   "name": "python",
   "nbconvert_exporter": "python",
   "pygments_lexer": "ipython3",
   "version": "3.7.4"
  }
 },
 "nbformat": 4,
 "nbformat_minor": 2
}
